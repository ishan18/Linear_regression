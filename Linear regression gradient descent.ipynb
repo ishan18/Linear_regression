{
 "cells": [
  {
   "cell_type": "code",
   "execution_count": 1,
   "metadata": {},
   "outputs": [],
   "source": [
    "import numpy as np"
   ]
  },
  {
   "cell_type": "code",
   "execution_count": 2,
   "metadata": {},
   "outputs": [],
   "source": [
    "def scaling(X):\n",
    "    Xmax=np.max(X,axis=0)\n",
    "    Xmin=np.min(X,axis=0)\n",
    "    Xmean=np.mean(X,axis=0)\n",
    "    X=np.divide(np.subtract(X,Xmean),np.subtract(Xmax,Xmin))\n",
    "    return X"
   ]
  },
  {
   "cell_type": "code",
   "execution_count": 3,
   "metadata": {},
   "outputs": [],
   "source": [
    "def hypo(theta,X):\n",
    "    return np.dot(X,theta)"
   ]
  },
  {
   "cell_type": "code",
   "execution_count": 4,
   "metadata": {},
   "outputs": [],
   "source": [
    "def costFunc(theta,X,Y,p):\n",
    "    m1,n1=X.shape\n",
    "    diff=np.subtract(hypo(theta,X),Y)\n",
    "    diff=np.multiply(diff,diff)\n",
    "    return np.sum(diff)/2/m1+np.sum(np.multiply(theta,theta))*p/2/m1"
   ]
  },
  {
   "cell_type": "code",
   "execution_count": 5,
   "metadata": {},
   "outputs": [],
   "source": [
    "def derCost(theta,X,Y,p):\n",
    "    m1,n1=X.shape\n",
    "    diff=np.subtract(hypo(theta,X),Y)\n",
    "    diff=np.dot(X.T,diff)\n",
    "    diff=np.divide(diff,m1)\n",
    "    diff=np.add(diff,np.multiply(theta,p/m1))\n",
    "    diff[0]=diff[0]-theta[0]*p/m1\n",
    "    return diff"
   ]
  },
  {
   "cell_type": "code",
   "execution_count": 6,
   "metadata": {},
   "outputs": [],
   "source": [
    "def gradientDescent(theta,X,Y,alpha,p):\n",
    "    deri=derCost(theta,X,Y,p)\n",
    "    theta=np.subtract(theta,np.multiply(deri,alpha))\n",
    "    return theta"
   ]
  },
  {
   "cell_type": "code",
   "execution_count": 7,
   "metadata": {},
   "outputs": [],
   "source": [
    "trainingExample=np.loadtxt(fname='ex1data2.txt' ,delimiter=',')"
   ]
  },
  {
   "cell_type": "code",
   "execution_count": 8,
   "metadata": {},
   "outputs": [],
   "source": [
    "m,n=trainingExample.shape\n",
    "n=n-1"
   ]
  },
  {
   "cell_type": "code",
   "execution_count": 9,
   "metadata": {},
   "outputs": [],
   "source": [
    "X=np.copy(trainingExample[:,:n])\n",
    "Y=trainingExample[:,n]\n",
    "for i in range(n):\n",
    "    x=np.ones((m,1))\n",
    "    for j in range(m):\n",
    "        x[j]=X[j,i]\n",
    "    X=np.concatenate((X,np.multiply(x,x)),axis=1)\n",
    "X=scaling(X)\n",
    "n=2*n\n",
    "ones=np.ones((m,1))\n",
    "X=np.concatenate((ones,X,),axis=1)"
   ]
  },
  {
   "cell_type": "code",
   "execution_count": 10,
   "metadata": {},
   "outputs": [],
   "source": [
    "theta=np.zeros(n+1)"
   ]
  },
  {
   "cell_type": "code",
   "execution_count": 11,
   "metadata": {},
   "outputs": [],
   "source": [
    "alpha=0.01\n",
    "p=0.1    #lambda for Regularisation\n",
    "iterations=1500"
   ]
  },
  {
   "cell_type": "code",
   "execution_count": 12,
   "metadata": {},
   "outputs": [],
   "source": [
    "for i in range (iterations):\n",
    "    theta=gradientDescent(theta,X,Y,alpha,p)"
   ]
  },
  {
   "cell_type": "code",
   "execution_count": 13,
   "metadata": {},
   "outputs": [
    {
     "data": {
      "text/plain": [
       "array([340412.56301439, 171804.0652302 ,  46525.60987881, 159849.25583827,\n",
       "        49946.6717421 ])"
      ]
     },
     "execution_count": 13,
     "metadata": {},
     "output_type": "execute_result"
    }
   ],
   "source": [
    "theta"
   ]
  },
  {
   "cell_type": "code",
   "execution_count": 14,
   "metadata": {},
   "outputs": [
    {
     "data": {
      "text/plain": [
       "2781571212.6147013"
      ]
     },
     "execution_count": 14,
     "metadata": {},
     "output_type": "execute_result"
    }
   ],
   "source": [
    "costFunc(theta,X,Y,p)"
   ]
  }
 ],
 "metadata": {
  "kernelspec": {
   "display_name": "Python 3",
   "language": "python",
   "name": "python3"
  },
  "language_info": {
   "codemirror_mode": {
    "name": "ipython",
    "version": 3
   },
   "file_extension": ".py",
   "mimetype": "text/x-python",
   "name": "python",
   "nbconvert_exporter": "python",
   "pygments_lexer": "ipython3",
   "version": "3.7.4"
  }
 },
 "nbformat": 4,
 "nbformat_minor": 2
}
